{
  "nbformat": 4,
  "nbformat_minor": 0,
  "metadata": {
    "colab": {
      "provenance": [],
      "authorship_tag": "ABX9TyMEqONBbBQ7lh4dd+PBdDpQ",
      "include_colab_link": true
    },
    "kernelspec": {
      "name": "python3",
      "display_name": "Python 3"
    },
    "language_info": {
      "name": "python"
    }
  },
  "cells": [
    {
      "cell_type": "markdown",
      "metadata": {
        "id": "view-in-github",
        "colab_type": "text"
      },
      "source": [
        "<a href=\"https://colab.research.google.com/github/ToterMa/8ProjetoEmPython/blob/main/juego_ahorcado.ipynb\" target=\"_parent\"><img src=\"https://colab.research.google.com/assets/colab-badge.svg\" alt=\"Open In Colab\"/></a>"
      ]
    },
    {
      "cell_type": "markdown",
      "source": [
        ">>**consultar Hangman ascii art**"
      ],
      "metadata": {
        "id": "KtpEIacnhZgl"
      }
    },
    {
      "cell_type": "code",
      "source": [
        "  import random\n",
        "\n",
        "  def run():\n",
        "      IMAGES = ['''\n",
        "  +---+\n",
        "  |   |\n",
        "      |\n",
        "      |\n",
        "      |\n",
        "      |\n",
        "=========''', '''\n",
        "  +---+\n",
        "  |   |\n",
        "  O   |\n",
        "      |\n",
        "      |\n",
        "      |\n",
        "=========''', '''\n",
        "  +---+\n",
        "  |   |\n",
        "  O   |\n",
        "  |   |\n",
        "      |\n",
        "      |\n",
        "=========''', '''\n",
        "  +---+\n",
        "  |   |\n",
        "  O   |\n",
        " /|   |\n",
        "      |\n",
        "      |\n",
        "=========''', '''\n",
        "  +---+\n",
        "  |   |\n",
        "  O   |\n",
        " /|\\  |\n",
        "      |\n",
        "      |\n",
        "=========''', '''\n",
        "  +---+\n",
        "  |   |\n",
        "  O   |\n",
        " /|\\  |\n",
        " /    |\n",
        "      |\n",
        "=========''', '''\n",
        "  +---+\n",
        "  |   |\n",
        "  O   |\n",
        " /|\\  |\n",
        " / \\  |\n",
        "      |\n",
        "=========''']\n",
        "\n",
        "    DB = [\n",
        "        \"C\",\n",
        "        \"PYTHON\",\n",
        "        \"JAVASCRIPT\"\n",
        "        \"JAVA\"\n",
        "        \"PHP\"\n",
        "      ]\n",
        "\n",
        "      word = random.choice(DB)\n",
        "      spaces = [\"_\"] * len (word)\n",
        "      attemp = 6\n",
        "      \n",
        "      while True:\n",
        "        os.system(\"clear\")\n",
        "        for character in spaces:\n",
        "            print(charecter, end=\"\")\n",
        "        print(IMAGES)[attemps]\n",
        "        letter = input (\"Elige una letra\").uppert()\n",
        "\n",
        "        found = false \n",
        "        for inx ,character in enumerate(word)\n",
        "            if character == letter:\n",
        "               spaces[idx] = letter\n",
        "               found = True\n",
        "\n",
        "        if no found:\n",
        "          attemps -= 1\n",
        "\n",
        "        if \"_\" not in spaces:\n",
        "          os.system(\"clear\")\n",
        "          print(\"Ganaste\")\n",
        "          break\n",
        "          input()\n",
        "\n",
        "        if attemps == 0\n",
        "          os.system(\"clear\")\n",
        "          print(\"Perdiste\")\n",
        "          break\n",
        "          input()\n",
        "\n",
        "  if _name_ == '_main_':\n",
        "    run()\n"
      ],
      "metadata": {
        "colab": {
          "base_uri": "https://localhost:8080/",
          "height": 134
        },
        "id": "hjcw_dyhfKlK",
        "outputId": "5cf4cbf2-df5e-4384-c013-8ab57b9a1267"
      },
      "execution_count": 13,
      "outputs": [
        {
          "output_type": "error",
          "ename": "IndentationError",
          "evalue": "ignored",
          "traceback": [
            "\u001b[0;36m  File \u001b[0;32m\"<tokenize>\"\u001b[0;36m, line \u001b[0;32m55\u001b[0m\n\u001b[0;31m    DB = [\u001b[0m\n\u001b[0m    ^\u001b[0m\n\u001b[0;31mIndentationError\u001b[0m\u001b[0;31m:\u001b[0m unindent does not match any outer indentation level\n"
          ]
        }
      ]
    }
  ]
}